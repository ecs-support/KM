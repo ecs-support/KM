{
 "cells": [
  {
   "cell_type": "code",
   "execution_count": null,
   "metadata": {},
   "outputs": [],
   "source": []
  },
  {
   "cell_type": "code",
   "execution_count": 75,
   "metadata": {
    "ExecuteTime": {
     "end_time": "2021-04-26T17:50:18.178847Z",
     "start_time": "2021-04-26T17:50:18.141848Z"
    }
   },
   "outputs": [
    {
     "name": "stdout",
     "output_type": "stream",
     "text": [
      "pandas version = 0.25.3\n"
     ]
    },
    {
     "data": {
      "text/plain": [
       "Timestamp('2021-04-27 00:50:18.166851')"
      ]
     },
     "execution_count": 75,
     "metadata": {},
     "output_type": "execute_result"
    }
   ],
   "source": [
    "import pandas as pd\n",
    "# used for dates\n",
    "import datetime\n",
    "from datetime import datetime, date\n",
    "import numpy as np\n",
    "import seaborn as sns\n",
    "import matplotlib.pyplot as plt\n",
    "import pickle\n",
    "# Set some pandas options controlling output format\n",
    "pd.set_option('display.notebook_repr_html', True)\n",
    "pd.set_option('display.max_columns', 30)\n",
    "pd.set_option('display.max_rows', 20)\n",
    "pd.set_option('display.width', 1000)\n",
    "%config InlineBackend.figure_format='retina'\n",
    "%matplotlib inline\n",
    "\n",
    "print(f'pandas version = {pd.__version__}')\n",
    "\n",
    "pd.Timestamp.today()"
   ]
  },
  {
   "cell_type": "code",
   "execution_count": 66,
   "metadata": {
    "ExecuteTime": {
     "end_time": "2021-04-26T17:49:28.010896Z",
     "start_time": "2021-04-26T17:49:27.997895Z"
    }
   },
   "outputs": [],
   "source": [
    "# อ่านข้อมูลจาก Pickle\n",
    "\n",
    "def read_pickle(files =None ):\n",
    "    \n",
    "    pickle_off = open(files,\"rb\")\n",
    "    df = pickle.load(pickle_off)\n",
    "    \n",
    "    return df\n",
    "##====================##\n",
    "\n",
    "# เขียนข้อมูลลง Pickle\n",
    "\n",
    "def write_pickle(data,files =None ):\n",
    "    pickling_on = open(files,\"wb\")\n",
    "    pickle.dump(data, pickling_on)\n",
    "    pickling_on.close()\n",
    "    print('dump success')"
   ]
  },
  {
   "cell_type": "code",
   "execution_count": 67,
   "metadata": {
    "ExecuteTime": {
     "end_time": "2021-04-26T17:49:29.869373Z",
     "start_time": "2021-04-26T17:49:29.832410Z"
    }
   },
   "outputs": [
    {
     "data": {
      "text/html": [
       "<div>\n",
       "<style scoped>\n",
       "    .dataframe tbody tr th:only-of-type {\n",
       "        vertical-align: middle;\n",
       "    }\n",
       "\n",
       "    .dataframe tbody tr th {\n",
       "        vertical-align: top;\n",
       "    }\n",
       "\n",
       "    .dataframe thead th {\n",
       "        text-align: right;\n",
       "    }\n",
       "</style>\n",
       "<table border=\"1\" class=\"dataframe\">\n",
       "  <thead>\n",
       "    <tr style=\"text-align: right;\">\n",
       "      <th></th>\n",
       "      <th>date</th>\n",
       "      <th>period</th>\n",
       "      <th>volumn</th>\n",
       "    </tr>\n",
       "  </thead>\n",
       "  <tbody>\n",
       "    <tr>\n",
       "      <th>0</th>\n",
       "      <td>26/10/2020</td>\n",
       "      <td>06:00-09:00</td>\n",
       "      <td>0</td>\n",
       "    </tr>\n",
       "    <tr>\n",
       "      <th>1</th>\n",
       "      <td>27/10/2020</td>\n",
       "      <td>06:00-09:00</td>\n",
       "      <td>7</td>\n",
       "    </tr>\n",
       "    <tr>\n",
       "      <th>2</th>\n",
       "      <td>28/10/2020</td>\n",
       "      <td>06:00-09:00</td>\n",
       "      <td>6</td>\n",
       "    </tr>\n",
       "    <tr>\n",
       "      <th>3</th>\n",
       "      <td>29/10/2020</td>\n",
       "      <td>06:00-09:00</td>\n",
       "      <td>7</td>\n",
       "    </tr>\n",
       "    <tr>\n",
       "      <th>4</th>\n",
       "      <td>30/10/2020</td>\n",
       "      <td>06:00-09:00</td>\n",
       "      <td>3</td>\n",
       "    </tr>\n",
       "    <tr>\n",
       "      <th>...</th>\n",
       "      <td>...</td>\n",
       "      <td>...</td>\n",
       "      <td>...</td>\n",
       "    </tr>\n",
       "    <tr>\n",
       "      <th>997</th>\n",
       "      <td>20/4/2021</td>\n",
       "      <td>09:00-12:00</td>\n",
       "      <td>84</td>\n",
       "    </tr>\n",
       "    <tr>\n",
       "      <th>998</th>\n",
       "      <td>21/4/2021</td>\n",
       "      <td>09:00-12:00</td>\n",
       "      <td>79</td>\n",
       "    </tr>\n",
       "    <tr>\n",
       "      <th>999</th>\n",
       "      <td>22/4/2021</td>\n",
       "      <td>09:00-12:00</td>\n",
       "      <td>72</td>\n",
       "    </tr>\n",
       "    <tr>\n",
       "      <th>1000</th>\n",
       "      <td>24/4/2021</td>\n",
       "      <td>09:00-12:00</td>\n",
       "      <td>10</td>\n",
       "    </tr>\n",
       "    <tr>\n",
       "      <th>1001</th>\n",
       "      <td>25/4/2021</td>\n",
       "      <td>09:00-12:00</td>\n",
       "      <td>2</td>\n",
       "    </tr>\n",
       "  </tbody>\n",
       "</table>\n",
       "<p>1002 rows × 3 columns</p>\n",
       "</div>"
      ],
      "text/plain": [
       "            date       period  volumn\n",
       "0     26/10/2020  06:00-09:00       0\n",
       "1     27/10/2020  06:00-09:00       7\n",
       "2     28/10/2020  06:00-09:00       6\n",
       "3     29/10/2020  06:00-09:00       7\n",
       "4     30/10/2020  06:00-09:00       3\n",
       "...          ...          ...     ...\n",
       "997    20/4/2021  09:00-12:00      84\n",
       "998    21/4/2021  09:00-12:00      79\n",
       "999    22/4/2021  09:00-12:00      72\n",
       "1000   24/4/2021  09:00-12:00      10\n",
       "1001   25/4/2021  09:00-12:00       2\n",
       "\n",
       "[1002 rows x 3 columns]"
      ]
     },
     "execution_count": 67,
     "metadata": {},
     "output_type": "execute_result"
    }
   ],
   "source": [
    "# Reading from Clipboard.\n",
    "\n",
    "df = pd.read_clipboard() \n",
    "df"
   ]
  },
  {
   "cell_type": "code",
   "execution_count": 68,
   "metadata": {
    "ExecuteTime": {
     "end_time": "2021-04-26T17:49:33.122650Z",
     "start_time": "2021-04-26T17:49:33.111653Z"
    }
   },
   "outputs": [
    {
     "name": "stdout",
     "output_type": "stream",
     "text": [
      "<class 'pandas.core.frame.DataFrame'>\n",
      "RangeIndex: 1002 entries, 0 to 1001\n",
      "Data columns (total 3 columns):\n",
      "date      1002 non-null object\n",
      "period    1002 non-null object\n",
      "volumn    1002 non-null int64\n",
      "dtypes: int64(1), object(2)\n",
      "memory usage: 23.6+ KB\n"
     ]
    }
   ],
   "source": [
    "df.info()"
   ]
  },
  {
   "cell_type": "code",
   "execution_count": 69,
   "metadata": {
    "ExecuteTime": {
     "end_time": "2021-04-26T17:49:34.997999Z",
     "start_time": "2021-04-26T17:49:34.960008Z"
    }
   },
   "outputs": [
    {
     "data": {
      "text/html": [
       "<div>\n",
       "<style scoped>\n",
       "    .dataframe tbody tr th:only-of-type {\n",
       "        vertical-align: middle;\n",
       "    }\n",
       "\n",
       "    .dataframe tbody tr th {\n",
       "        vertical-align: top;\n",
       "    }\n",
       "\n",
       "    .dataframe thead th {\n",
       "        text-align: right;\n",
       "    }\n",
       "</style>\n",
       "<table border=\"1\" class=\"dataframe\">\n",
       "  <thead>\n",
       "    <tr style=\"text-align: right;\">\n",
       "      <th></th>\n",
       "      <th>date</th>\n",
       "      <th>period</th>\n",
       "      <th>volumn</th>\n",
       "    </tr>\n",
       "  </thead>\n",
       "  <tbody>\n",
       "    <tr>\n",
       "      <th>0</th>\n",
       "      <td>2020-10-26</td>\n",
       "      <td>06:00-09:00</td>\n",
       "      <td>0</td>\n",
       "    </tr>\n",
       "    <tr>\n",
       "      <th>1</th>\n",
       "      <td>2020-10-27</td>\n",
       "      <td>06:00-09:00</td>\n",
       "      <td>7</td>\n",
       "    </tr>\n",
       "    <tr>\n",
       "      <th>2</th>\n",
       "      <td>2020-10-28</td>\n",
       "      <td>06:00-09:00</td>\n",
       "      <td>6</td>\n",
       "    </tr>\n",
       "    <tr>\n",
       "      <th>3</th>\n",
       "      <td>2020-10-29</td>\n",
       "      <td>06:00-09:00</td>\n",
       "      <td>7</td>\n",
       "    </tr>\n",
       "    <tr>\n",
       "      <th>4</th>\n",
       "      <td>2020-10-30</td>\n",
       "      <td>06:00-09:00</td>\n",
       "      <td>3</td>\n",
       "    </tr>\n",
       "    <tr>\n",
       "      <th>...</th>\n",
       "      <td>...</td>\n",
       "      <td>...</td>\n",
       "      <td>...</td>\n",
       "    </tr>\n",
       "    <tr>\n",
       "      <th>997</th>\n",
       "      <td>2021-04-20</td>\n",
       "      <td>09:00-12:00</td>\n",
       "      <td>84</td>\n",
       "    </tr>\n",
       "    <tr>\n",
       "      <th>998</th>\n",
       "      <td>2021-04-21</td>\n",
       "      <td>09:00-12:00</td>\n",
       "      <td>79</td>\n",
       "    </tr>\n",
       "    <tr>\n",
       "      <th>999</th>\n",
       "      <td>2021-04-22</td>\n",
       "      <td>09:00-12:00</td>\n",
       "      <td>72</td>\n",
       "    </tr>\n",
       "    <tr>\n",
       "      <th>1000</th>\n",
       "      <td>2021-04-24</td>\n",
       "      <td>09:00-12:00</td>\n",
       "      <td>10</td>\n",
       "    </tr>\n",
       "    <tr>\n",
       "      <th>1001</th>\n",
       "      <td>2021-04-25</td>\n",
       "      <td>09:00-12:00</td>\n",
       "      <td>2</td>\n",
       "    </tr>\n",
       "  </tbody>\n",
       "</table>\n",
       "<p>1002 rows × 3 columns</p>\n",
       "</div>"
      ],
      "text/plain": [
       "           date       period  volumn\n",
       "0    2020-10-26  06:00-09:00       0\n",
       "1    2020-10-27  06:00-09:00       7\n",
       "2    2020-10-28  06:00-09:00       6\n",
       "3    2020-10-29  06:00-09:00       7\n",
       "4    2020-10-30  06:00-09:00       3\n",
       "...         ...          ...     ...\n",
       "997  2021-04-20  09:00-12:00      84\n",
       "998  2021-04-21  09:00-12:00      79\n",
       "999  2021-04-22  09:00-12:00      72\n",
       "1000 2021-04-24  09:00-12:00      10\n",
       "1001 2021-04-25  09:00-12:00       2\n",
       "\n",
       "[1002 rows x 3 columns]"
      ]
     },
     "execution_count": 69,
     "metadata": {},
     "output_type": "execute_result"
    }
   ],
   "source": [
    "df['date'] = pd.to_datetime(df['date'], format='%d/%m/%Y')\n",
    "df"
   ]
  },
  {
   "cell_type": "code",
   "execution_count": 70,
   "metadata": {
    "ExecuteTime": {
     "end_time": "2021-04-26T17:49:36.551613Z",
     "start_time": "2021-04-26T17:49:36.502616Z"
    }
   },
   "outputs": [
    {
     "data": {
      "text/html": [
       "<div>\n",
       "<style scoped>\n",
       "    .dataframe tbody tr th:only-of-type {\n",
       "        vertical-align: middle;\n",
       "    }\n",
       "\n",
       "    .dataframe tbody tr th {\n",
       "        vertical-align: top;\n",
       "    }\n",
       "\n",
       "    .dataframe thead th {\n",
       "        text-align: right;\n",
       "    }\n",
       "</style>\n",
       "<table border=\"1\" class=\"dataframe\">\n",
       "  <thead>\n",
       "    <tr style=\"text-align: right;\">\n",
       "      <th></th>\n",
       "      <th>date</th>\n",
       "      <th>period</th>\n",
       "      <th>volumn</th>\n",
       "      <th>Year</th>\n",
       "      <th>Month</th>\n",
       "      <th>Day</th>\n",
       "      <th>DayName</th>\n",
       "    </tr>\n",
       "  </thead>\n",
       "  <tbody>\n",
       "    <tr>\n",
       "      <th>0</th>\n",
       "      <td>2020-10-26</td>\n",
       "      <td>06:00-09:00</td>\n",
       "      <td>0</td>\n",
       "      <td>2020</td>\n",
       "      <td>10</td>\n",
       "      <td>26</td>\n",
       "      <td>Mon</td>\n",
       "    </tr>\n",
       "    <tr>\n",
       "      <th>1</th>\n",
       "      <td>2020-10-27</td>\n",
       "      <td>06:00-09:00</td>\n",
       "      <td>7</td>\n",
       "      <td>2020</td>\n",
       "      <td>10</td>\n",
       "      <td>27</td>\n",
       "      <td>Tue</td>\n",
       "    </tr>\n",
       "    <tr>\n",
       "      <th>2</th>\n",
       "      <td>2020-10-28</td>\n",
       "      <td>06:00-09:00</td>\n",
       "      <td>6</td>\n",
       "      <td>2020</td>\n",
       "      <td>10</td>\n",
       "      <td>28</td>\n",
       "      <td>Wed</td>\n",
       "    </tr>\n",
       "    <tr>\n",
       "      <th>3</th>\n",
       "      <td>2020-10-29</td>\n",
       "      <td>06:00-09:00</td>\n",
       "      <td>7</td>\n",
       "      <td>2020</td>\n",
       "      <td>10</td>\n",
       "      <td>29</td>\n",
       "      <td>Thu</td>\n",
       "    </tr>\n",
       "    <tr>\n",
       "      <th>4</th>\n",
       "      <td>2020-10-30</td>\n",
       "      <td>06:00-09:00</td>\n",
       "      <td>3</td>\n",
       "      <td>2020</td>\n",
       "      <td>10</td>\n",
       "      <td>30</td>\n",
       "      <td>Fri</td>\n",
       "    </tr>\n",
       "    <tr>\n",
       "      <th>...</th>\n",
       "      <td>...</td>\n",
       "      <td>...</td>\n",
       "      <td>...</td>\n",
       "      <td>...</td>\n",
       "      <td>...</td>\n",
       "      <td>...</td>\n",
       "      <td>...</td>\n",
       "    </tr>\n",
       "    <tr>\n",
       "      <th>997</th>\n",
       "      <td>2021-04-20</td>\n",
       "      <td>09:00-12:00</td>\n",
       "      <td>84</td>\n",
       "      <td>2021</td>\n",
       "      <td>4</td>\n",
       "      <td>20</td>\n",
       "      <td>Tue</td>\n",
       "    </tr>\n",
       "    <tr>\n",
       "      <th>998</th>\n",
       "      <td>2021-04-21</td>\n",
       "      <td>09:00-12:00</td>\n",
       "      <td>79</td>\n",
       "      <td>2021</td>\n",
       "      <td>4</td>\n",
       "      <td>21</td>\n",
       "      <td>Wed</td>\n",
       "    </tr>\n",
       "    <tr>\n",
       "      <th>999</th>\n",
       "      <td>2021-04-22</td>\n",
       "      <td>09:00-12:00</td>\n",
       "      <td>72</td>\n",
       "      <td>2021</td>\n",
       "      <td>4</td>\n",
       "      <td>22</td>\n",
       "      <td>Thu</td>\n",
       "    </tr>\n",
       "    <tr>\n",
       "      <th>1000</th>\n",
       "      <td>2021-04-24</td>\n",
       "      <td>09:00-12:00</td>\n",
       "      <td>10</td>\n",
       "      <td>2021</td>\n",
       "      <td>4</td>\n",
       "      <td>24</td>\n",
       "      <td>Sat</td>\n",
       "    </tr>\n",
       "    <tr>\n",
       "      <th>1001</th>\n",
       "      <td>2021-04-25</td>\n",
       "      <td>09:00-12:00</td>\n",
       "      <td>2</td>\n",
       "      <td>2021</td>\n",
       "      <td>4</td>\n",
       "      <td>25</td>\n",
       "      <td>Sun</td>\n",
       "    </tr>\n",
       "  </tbody>\n",
       "</table>\n",
       "<p>1002 rows × 7 columns</p>\n",
       "</div>"
      ],
      "text/plain": [
       "           date       period  volumn  Year  Month  Day DayName\n",
       "0    2020-10-26  06:00-09:00       0  2020     10   26     Mon\n",
       "1    2020-10-27  06:00-09:00       7  2020     10   27     Tue\n",
       "2    2020-10-28  06:00-09:00       6  2020     10   28     Wed\n",
       "3    2020-10-29  06:00-09:00       7  2020     10   29     Thu\n",
       "4    2020-10-30  06:00-09:00       3  2020     10   30     Fri\n",
       "...         ...          ...     ...   ...    ...  ...     ...\n",
       "997  2021-04-20  09:00-12:00      84  2021      4   20     Tue\n",
       "998  2021-04-21  09:00-12:00      79  2021      4   21     Wed\n",
       "999  2021-04-22  09:00-12:00      72  2021      4   22     Thu\n",
       "1000 2021-04-24  09:00-12:00      10  2021      4   24     Sat\n",
       "1001 2021-04-25  09:00-12:00       2  2021      4   25     Sun\n",
       "\n",
       "[1002 rows x 7 columns]"
      ]
     },
     "execution_count": 70,
     "metadata": {},
     "output_type": "execute_result"
    }
   ],
   "source": [
    "df['Year']=df['date'].dt.year\n",
    "df['Month']=df['date'].dt.month\n",
    "df['Day']=df['date'].dt.day\n",
    "df['DayName']=df['date'].dt.strftime('%a')\n",
    "df"
   ]
  },
  {
   "cell_type": "code",
   "execution_count": 71,
   "metadata": {
    "ExecuteTime": {
     "end_time": "2021-04-26T17:49:38.376929Z",
     "start_time": "2021-04-26T17:49:38.326933Z"
    }
   },
   "outputs": [
    {
     "data": {
      "text/html": [
       "<div>\n",
       "<style scoped>\n",
       "    .dataframe tbody tr th:only-of-type {\n",
       "        vertical-align: middle;\n",
       "    }\n",
       "\n",
       "    .dataframe tbody tr th {\n",
       "        vertical-align: top;\n",
       "    }\n",
       "\n",
       "    .dataframe thead th {\n",
       "        text-align: right;\n",
       "    }\n",
       "</style>\n",
       "<table border=\"1\" class=\"dataframe\">\n",
       "  <thead>\n",
       "    <tr style=\"text-align: right;\">\n",
       "      <th></th>\n",
       "      <th>date</th>\n",
       "      <th>period</th>\n",
       "      <th>volumn</th>\n",
       "      <th>Year</th>\n",
       "      <th>Month</th>\n",
       "      <th>Day</th>\n",
       "      <th>DayName</th>\n",
       "    </tr>\n",
       "  </thead>\n",
       "  <tbody>\n",
       "    <tr>\n",
       "      <th>0</th>\n",
       "      <td>2020-10-26</td>\n",
       "      <td>06:00-09:00</td>\n",
       "      <td>0</td>\n",
       "      <td>2020</td>\n",
       "      <td>10</td>\n",
       "      <td>26</td>\n",
       "      <td>Mon</td>\n",
       "    </tr>\n",
       "    <tr>\n",
       "      <th>1</th>\n",
       "      <td>2020-10-27</td>\n",
       "      <td>06:00-09:00</td>\n",
       "      <td>7</td>\n",
       "      <td>2020</td>\n",
       "      <td>10</td>\n",
       "      <td>27</td>\n",
       "      <td>Tue</td>\n",
       "    </tr>\n",
       "    <tr>\n",
       "      <th>2</th>\n",
       "      <td>2020-10-28</td>\n",
       "      <td>06:00-09:00</td>\n",
       "      <td>6</td>\n",
       "      <td>2020</td>\n",
       "      <td>10</td>\n",
       "      <td>28</td>\n",
       "      <td>Wed</td>\n",
       "    </tr>\n",
       "    <tr>\n",
       "      <th>3</th>\n",
       "      <td>2020-10-29</td>\n",
       "      <td>06:00-09:00</td>\n",
       "      <td>7</td>\n",
       "      <td>2020</td>\n",
       "      <td>10</td>\n",
       "      <td>29</td>\n",
       "      <td>Thu</td>\n",
       "    </tr>\n",
       "    <tr>\n",
       "      <th>4</th>\n",
       "      <td>2020-10-30</td>\n",
       "      <td>06:00-09:00</td>\n",
       "      <td>3</td>\n",
       "      <td>2020</td>\n",
       "      <td>10</td>\n",
       "      <td>30</td>\n",
       "      <td>Fri</td>\n",
       "    </tr>\n",
       "    <tr>\n",
       "      <th>...</th>\n",
       "      <td>...</td>\n",
       "      <td>...</td>\n",
       "      <td>...</td>\n",
       "      <td>...</td>\n",
       "      <td>...</td>\n",
       "      <td>...</td>\n",
       "      <td>...</td>\n",
       "    </tr>\n",
       "    <tr>\n",
       "      <th>997</th>\n",
       "      <td>2021-04-20</td>\n",
       "      <td>09:00-12:00</td>\n",
       "      <td>84</td>\n",
       "      <td>2021</td>\n",
       "      <td>4</td>\n",
       "      <td>20</td>\n",
       "      <td>Tue</td>\n",
       "    </tr>\n",
       "    <tr>\n",
       "      <th>998</th>\n",
       "      <td>2021-04-21</td>\n",
       "      <td>09:00-12:00</td>\n",
       "      <td>79</td>\n",
       "      <td>2021</td>\n",
       "      <td>4</td>\n",
       "      <td>21</td>\n",
       "      <td>Wed</td>\n",
       "    </tr>\n",
       "    <tr>\n",
       "      <th>999</th>\n",
       "      <td>2021-04-22</td>\n",
       "      <td>09:00-12:00</td>\n",
       "      <td>72</td>\n",
       "      <td>2021</td>\n",
       "      <td>4</td>\n",
       "      <td>22</td>\n",
       "      <td>Thu</td>\n",
       "    </tr>\n",
       "    <tr>\n",
       "      <th>1000</th>\n",
       "      <td>2021-04-24</td>\n",
       "      <td>09:00-12:00</td>\n",
       "      <td>10</td>\n",
       "      <td>2021</td>\n",
       "      <td>4</td>\n",
       "      <td>24</td>\n",
       "      <td>Sat</td>\n",
       "    </tr>\n",
       "    <tr>\n",
       "      <th>1001</th>\n",
       "      <td>2021-04-25</td>\n",
       "      <td>09:00-12:00</td>\n",
       "      <td>2</td>\n",
       "      <td>2021</td>\n",
       "      <td>4</td>\n",
       "      <td>25</td>\n",
       "      <td>Sun</td>\n",
       "    </tr>\n",
       "  </tbody>\n",
       "</table>\n",
       "<p>1002 rows × 7 columns</p>\n",
       "</div>"
      ],
      "text/plain": [
       "           date       period  volumn  Year  Month  Day DayName\n",
       "0    2020-10-26  06:00-09:00       0  2020     10   26     Mon\n",
       "1    2020-10-27  06:00-09:00       7  2020     10   27     Tue\n",
       "2    2020-10-28  06:00-09:00       6  2020     10   28     Wed\n",
       "3    2020-10-29  06:00-09:00       7  2020     10   29     Thu\n",
       "4    2020-10-30  06:00-09:00       3  2020     10   30     Fri\n",
       "...         ...          ...     ...   ...    ...  ...     ...\n",
       "997  2021-04-20  09:00-12:00      84  2021      4   20     Tue\n",
       "998  2021-04-21  09:00-12:00      79  2021      4   21     Wed\n",
       "999  2021-04-22  09:00-12:00      72  2021      4   22     Thu\n",
       "1000 2021-04-24  09:00-12:00      10  2021      4   24     Sat\n",
       "1001 2021-04-25  09:00-12:00       2  2021      4   25     Sun\n",
       "\n",
       "[1002 rows x 7 columns]"
      ]
     },
     "execution_count": 71,
     "metadata": {},
     "output_type": "execute_result"
    }
   ],
   "source": [
    "from pandas.api.types import CategoricalDtype\n",
    "cat_dayname = CategoricalDtype(categories=[ 'Mon', 'Tue', 'Wed', 'Thu', 'Fri', 'Sat','Sun'], ordered=True)\n",
    "df['DayName']=df['DayName'].astype(cat_dayname)\n",
    "df"
   ]
  },
  {
   "cell_type": "code",
   "execution_count": null,
   "metadata": {},
   "outputs": [],
   "source": []
  },
  {
   "cell_type": "markdown",
   "metadata": {},
   "source": [
    "## Read & Write Data"
   ]
  },
  {
   "cell_type": "code",
   "execution_count": 82,
   "metadata": {
    "ExecuteTime": {
     "end_time": "2021-04-26T18:36:52.652055Z",
     "start_time": "2021-04-26T18:36:52.646059Z"
    }
   },
   "outputs": [],
   "source": [
    "files = 'periods.pkl'"
   ]
  },
  {
   "cell_type": "code",
   "execution_count": null,
   "metadata": {},
   "outputs": [],
   "source": [
    "write_pickle(df,files)"
   ]
  },
  {
   "cell_type": "code",
   "execution_count": 84,
   "metadata": {
    "ExecuteTime": {
     "end_time": "2021-04-26T18:37:04.329016Z",
     "start_time": "2021-04-26T18:37:04.296014Z"
    }
   },
   "outputs": [
    {
     "data": {
      "text/html": [
       "<div>\n",
       "<style scoped>\n",
       "    .dataframe tbody tr th:only-of-type {\n",
       "        vertical-align: middle;\n",
       "    }\n",
       "\n",
       "    .dataframe tbody tr th {\n",
       "        vertical-align: top;\n",
       "    }\n",
       "\n",
       "    .dataframe thead th {\n",
       "        text-align: right;\n",
       "    }\n",
       "</style>\n",
       "<table border=\"1\" class=\"dataframe\">\n",
       "  <thead>\n",
       "    <tr style=\"text-align: right;\">\n",
       "      <th></th>\n",
       "      <th>date</th>\n",
       "      <th>period</th>\n",
       "      <th>volumn</th>\n",
       "      <th>Year</th>\n",
       "      <th>Month</th>\n",
       "      <th>Day</th>\n",
       "      <th>DayName</th>\n",
       "    </tr>\n",
       "  </thead>\n",
       "  <tbody>\n",
       "    <tr>\n",
       "      <th>0</th>\n",
       "      <td>2020-10-26</td>\n",
       "      <td>06:00-09:00</td>\n",
       "      <td>0</td>\n",
       "      <td>2020</td>\n",
       "      <td>10</td>\n",
       "      <td>26</td>\n",
       "      <td>Mon</td>\n",
       "    </tr>\n",
       "    <tr>\n",
       "      <th>1</th>\n",
       "      <td>2020-10-27</td>\n",
       "      <td>06:00-09:00</td>\n",
       "      <td>7</td>\n",
       "      <td>2020</td>\n",
       "      <td>10</td>\n",
       "      <td>27</td>\n",
       "      <td>Tue</td>\n",
       "    </tr>\n",
       "    <tr>\n",
       "      <th>2</th>\n",
       "      <td>2020-10-28</td>\n",
       "      <td>06:00-09:00</td>\n",
       "      <td>6</td>\n",
       "      <td>2020</td>\n",
       "      <td>10</td>\n",
       "      <td>28</td>\n",
       "      <td>Wed</td>\n",
       "    </tr>\n",
       "    <tr>\n",
       "      <th>3</th>\n",
       "      <td>2020-10-29</td>\n",
       "      <td>06:00-09:00</td>\n",
       "      <td>7</td>\n",
       "      <td>2020</td>\n",
       "      <td>10</td>\n",
       "      <td>29</td>\n",
       "      <td>Thu</td>\n",
       "    </tr>\n",
       "    <tr>\n",
       "      <th>4</th>\n",
       "      <td>2020-10-30</td>\n",
       "      <td>06:00-09:00</td>\n",
       "      <td>3</td>\n",
       "      <td>2020</td>\n",
       "      <td>10</td>\n",
       "      <td>30</td>\n",
       "      <td>Fri</td>\n",
       "    </tr>\n",
       "    <tr>\n",
       "      <th>...</th>\n",
       "      <td>...</td>\n",
       "      <td>...</td>\n",
       "      <td>...</td>\n",
       "      <td>...</td>\n",
       "      <td>...</td>\n",
       "      <td>...</td>\n",
       "      <td>...</td>\n",
       "    </tr>\n",
       "    <tr>\n",
       "      <th>997</th>\n",
       "      <td>2021-04-20</td>\n",
       "      <td>09:00-12:00</td>\n",
       "      <td>84</td>\n",
       "      <td>2021</td>\n",
       "      <td>4</td>\n",
       "      <td>20</td>\n",
       "      <td>Tue</td>\n",
       "    </tr>\n",
       "    <tr>\n",
       "      <th>998</th>\n",
       "      <td>2021-04-21</td>\n",
       "      <td>09:00-12:00</td>\n",
       "      <td>79</td>\n",
       "      <td>2021</td>\n",
       "      <td>4</td>\n",
       "      <td>21</td>\n",
       "      <td>Wed</td>\n",
       "    </tr>\n",
       "    <tr>\n",
       "      <th>999</th>\n",
       "      <td>2021-04-22</td>\n",
       "      <td>09:00-12:00</td>\n",
       "      <td>72</td>\n",
       "      <td>2021</td>\n",
       "      <td>4</td>\n",
       "      <td>22</td>\n",
       "      <td>Thu</td>\n",
       "    </tr>\n",
       "    <tr>\n",
       "      <th>1000</th>\n",
       "      <td>2021-04-24</td>\n",
       "      <td>09:00-12:00</td>\n",
       "      <td>10</td>\n",
       "      <td>2021</td>\n",
       "      <td>4</td>\n",
       "      <td>24</td>\n",
       "      <td>Sat</td>\n",
       "    </tr>\n",
       "    <tr>\n",
       "      <th>1001</th>\n",
       "      <td>2021-04-25</td>\n",
       "      <td>09:00-12:00</td>\n",
       "      <td>2</td>\n",
       "      <td>2021</td>\n",
       "      <td>4</td>\n",
       "      <td>25</td>\n",
       "      <td>Sun</td>\n",
       "    </tr>\n",
       "  </tbody>\n",
       "</table>\n",
       "<p>1002 rows × 7 columns</p>\n",
       "</div>"
      ],
      "text/plain": [
       "           date       period  volumn  Year  Month  Day DayName\n",
       "0    2020-10-26  06:00-09:00       0  2020     10   26     Mon\n",
       "1    2020-10-27  06:00-09:00       7  2020     10   27     Tue\n",
       "2    2020-10-28  06:00-09:00       6  2020     10   28     Wed\n",
       "3    2020-10-29  06:00-09:00       7  2020     10   29     Thu\n",
       "4    2020-10-30  06:00-09:00       3  2020     10   30     Fri\n",
       "...         ...          ...     ...   ...    ...  ...     ...\n",
       "997  2021-04-20  09:00-12:00      84  2021      4   20     Tue\n",
       "998  2021-04-21  09:00-12:00      79  2021      4   21     Wed\n",
       "999  2021-04-22  09:00-12:00      72  2021      4   22     Thu\n",
       "1000 2021-04-24  09:00-12:00      10  2021      4   24     Sat\n",
       "1001 2021-04-25  09:00-12:00       2  2021      4   25     Sun\n",
       "\n",
       "[1002 rows x 7 columns]"
      ]
     },
     "execution_count": 84,
     "metadata": {},
     "output_type": "execute_result"
    }
   ],
   "source": [
    "data = read_pickle(files)\n",
    "data"
   ]
  },
  {
   "cell_type": "markdown",
   "metadata": {},
   "source": [
    "# ค่าเฉลี่ยต่อวันคำนวณจากลำดับวันของสัปดาห์"
   ]
  },
  {
   "cell_type": "code",
   "execution_count": 85,
   "metadata": {
    "ExecuteTime": {
     "end_time": "2021-04-26T18:37:11.192873Z",
     "start_time": "2021-04-26T18:37:11.171880Z"
    }
   },
   "outputs": [
    {
     "data": {
      "text/html": [
       "<div>\n",
       "<style scoped>\n",
       "    .dataframe tbody tr th:only-of-type {\n",
       "        vertical-align: middle;\n",
       "    }\n",
       "\n",
       "    .dataframe tbody tr th {\n",
       "        vertical-align: top;\n",
       "    }\n",
       "\n",
       "    .dataframe thead th {\n",
       "        text-align: right;\n",
       "    }\n",
       "</style>\n",
       "<table border=\"1\" class=\"dataframe\">\n",
       "  <thead>\n",
       "    <tr style=\"text-align: right;\">\n",
       "      <th></th>\n",
       "      <th>DayName</th>\n",
       "      <th>volumn</th>\n",
       "    </tr>\n",
       "  </thead>\n",
       "  <tbody>\n",
       "    <tr>\n",
       "      <th>0</th>\n",
       "      <td>Mon</td>\n",
       "      <td>30.974359</td>\n",
       "    </tr>\n",
       "    <tr>\n",
       "      <th>1</th>\n",
       "      <td>Tue</td>\n",
       "      <td>37.326087</td>\n",
       "    </tr>\n",
       "    <tr>\n",
       "      <th>2</th>\n",
       "      <td>Wed</td>\n",
       "      <td>35.313333</td>\n",
       "    </tr>\n",
       "    <tr>\n",
       "      <th>3</th>\n",
       "      <td>Thu</td>\n",
       "      <td>32.426667</td>\n",
       "    </tr>\n",
       "    <tr>\n",
       "      <th>4</th>\n",
       "      <td>Fri</td>\n",
       "      <td>31.381944</td>\n",
       "    </tr>\n",
       "    <tr>\n",
       "      <th>5</th>\n",
       "      <td>Sat</td>\n",
       "      <td>3.491228</td>\n",
       "    </tr>\n",
       "    <tr>\n",
       "      <th>6</th>\n",
       "      <td>Sun</td>\n",
       "      <td>1.353333</td>\n",
       "    </tr>\n",
       "  </tbody>\n",
       "</table>\n",
       "</div>"
      ],
      "text/plain": [
       "  DayName     volumn\n",
       "0     Mon  30.974359\n",
       "1     Tue  37.326087\n",
       "2     Wed  35.313333\n",
       "3     Thu  32.426667\n",
       "4     Fri  31.381944\n",
       "5     Sat   3.491228\n",
       "6     Sun   1.353333"
      ]
     },
     "execution_count": 85,
     "metadata": {},
     "output_type": "execute_result"
    }
   ],
   "source": [
    "data = df[['DayName', 'volumn']].groupby('DayName').mean().reset_index()\n",
    "data"
   ]
  },
  {
   "cell_type": "code",
   "execution_count": 86,
   "metadata": {
    "ExecuteTime": {
     "end_time": "2021-04-26T18:37:14.339923Z",
     "start_time": "2021-04-26T18:37:14.006887Z"
    }
   },
   "outputs": [
    {
     "data": {
      "text/plain": [
       "<matplotlib.axes._subplots.AxesSubplot at 0x16dfdd47198>"
      ]
     },
     "execution_count": 86,
     "metadata": {},
     "output_type": "execute_result"
    },
    {
     "data": {
      "image/png": "[encoded data removed]",
      "text/plain": [
       "<Figure size 1008x432 with 1 Axes>"
      ]
     },
     "metadata": {
      "image/png": {
       "height": 370,
       "width": 828
      },
      "needs_background": "light"
     },
     "output_type": "display_data"
    }
   ],
   "source": [
    "plt.figure(figsize=(14, 6))\n",
    "sns.barplot(x='DayName',y='volumn',data=data)"
   ]
  },
  {
   "cell_type": "markdown",
   "metadata": {},
   "source": [
    "## คิดเป็น %"
   ]
  },
  {
   "cell_type": "code",
   "execution_count": 115,
   "metadata": {
    "ExecuteTime": {
     "end_time": "2021-04-26T19:08:19.356485Z",
     "start_time": "2021-04-26T19:08:19.250483Z"
    }
   },
   "outputs": [
    {
     "data": {
      "text/html": [
       "<style  type=\"text/css\" >\n",
       "    #T_c32deb80_a6c2_11eb_b010_3c95091dde09row1_col0 {\n",
       "            background-color:  red;\n",
       "            : ;\n",
       "        }    #T_c32deb80_a6c2_11eb_b010_3c95091dde09row6_col0 {\n",
       "            : ;\n",
       "            background-color:  gold;\n",
       "        }</style><table id=\"T_c32deb80_a6c2_11eb_b010_3c95091dde09\" ><thead>    <tr>        <th class=\"blank level0\" ></th>        <th class=\"col_heading level0 col0\" >volumn</th>    </tr>    <tr>        <th class=\"index_name level0\" >DayName</th>        <th class=\"blank\" ></th>    </tr></thead><tbody>\n",
       "                <tr>\n",
       "                        <th id=\"T_c32deb80_a6c2_11eb_b010_3c95091dde09level0_row0\" class=\"row_heading level0 row0\" >Mon</th>\n",
       "                        <td id=\"T_c32deb80_a6c2_11eb_b010_3c95091dde09row0_col0\" class=\"data row0 col0\" >17.9804</td>\n",
       "            </tr>\n",
       "            <tr>\n",
       "                        <th id=\"T_c32deb80_a6c2_11eb_b010_3c95091dde09level0_row1\" class=\"row_heading level0 row1\" >Tue</th>\n",
       "                        <td id=\"T_c32deb80_a6c2_11eb_b010_3c95091dde09row1_col0\" class=\"data row1 col0\" >21.6676</td>\n",
       "            </tr>\n",
       "            <tr>\n",
       "                        <th id=\"T_c32deb80_a6c2_11eb_b010_3c95091dde09level0_row2\" class=\"row_heading level0 row2\" >Wed</th>\n",
       "                        <td id=\"T_c32deb80_a6c2_11eb_b010_3c95091dde09row2_col0\" class=\"data row2 col0\" >20.4992</td>\n",
       "            </tr>\n",
       "            <tr>\n",
       "                        <th id=\"T_c32deb80_a6c2_11eb_b010_3c95091dde09level0_row3\" class=\"row_heading level0 row3\" >Thu</th>\n",
       "                        <td id=\"T_c32deb80_a6c2_11eb_b010_3c95091dde09row3_col0\" class=\"data row3 col0\" >18.8235</td>\n",
       "            </tr>\n",
       "            <tr>\n",
       "                        <th id=\"T_c32deb80_a6c2_11eb_b010_3c95091dde09level0_row4\" class=\"row_heading level0 row4\" >Fri</th>\n",
       "                        <td id=\"T_c32deb80_a6c2_11eb_b010_3c95091dde09row4_col0\" class=\"data row4 col0\" >18.217</td>\n",
       "            </tr>\n",
       "            <tr>\n",
       "                        <th id=\"T_c32deb80_a6c2_11eb_b010_3c95091dde09level0_row5\" class=\"row_heading level0 row5\" >Sat</th>\n",
       "                        <td id=\"T_c32deb80_a6c2_11eb_b010_3c95091dde09row5_col0\" class=\"data row5 col0\" >2.02664</td>\n",
       "            </tr>\n",
       "            <tr>\n",
       "                        <th id=\"T_c32deb80_a6c2_11eb_b010_3c95091dde09level0_row6\" class=\"row_heading level0 row6\" >Sun</th>\n",
       "                        <td id=\"T_c32deb80_a6c2_11eb_b010_3c95091dde09row6_col0\" class=\"data row6 col0\" >0.785602</td>\n",
       "            </tr>\n",
       "    </tbody></table>"
      ],
      "text/plain": [
       "<pandas.io.formats.style.Styler at 0x16dfee2fdd8>"
      ]
     },
     "execution_count": 115,
     "metadata": {},
     "output_type": "execute_result"
    }
   ],
   "source": [
    "data = read_pickle(files)\n",
    "data = df[['DayName', 'volumn']].groupby('DayName').mean()\n",
    "data = data.transform(lambda x: x/x.sum()*100)\n",
    "\n",
    "data = data.style.highlight_max(color='red').highlight_min(color='gold')\n",
    "data"
   ]
  },
  {
   "cell_type": "markdown",
   "metadata": {},
   "source": [
    "## ค่าเฉลี่ยต่อวันคำนวณจากช่วงเวลาของแต่ละวัน"
   ]
  },
  {
   "cell_type": "code",
   "execution_count": 77,
   "metadata": {
    "ExecuteTime": {
     "end_time": "2021-04-26T17:50:59.401988Z",
     "start_time": "2021-04-26T17:50:59.373946Z"
    }
   },
   "outputs": [
    {
     "data": {
      "text/html": [
       "<div>\n",
       "<style scoped>\n",
       "    .dataframe tbody tr th:only-of-type {\n",
       "        vertical-align: middle;\n",
       "    }\n",
       "\n",
       "    .dataframe tbody tr th {\n",
       "        vertical-align: top;\n",
       "    }\n",
       "\n",
       "    .dataframe thead th {\n",
       "        text-align: right;\n",
       "    }\n",
       "</style>\n",
       "<table border=\"1\" class=\"dataframe\">\n",
       "  <thead>\n",
       "    <tr style=\"text-align: right;\">\n",
       "      <th></th>\n",
       "      <th>period</th>\n",
       "      <th>volumn</th>\n",
       "    </tr>\n",
       "  </thead>\n",
       "  <tbody>\n",
       "    <tr>\n",
       "      <th>0</th>\n",
       "      <td>00:00-06:00</td>\n",
       "      <td>0.155689</td>\n",
       "    </tr>\n",
       "    <tr>\n",
       "      <th>1</th>\n",
       "      <td>06:00-09:00</td>\n",
       "      <td>4.598802</td>\n",
       "    </tr>\n",
       "    <tr>\n",
       "      <th>2</th>\n",
       "      <td>09:00-12:00</td>\n",
       "      <td>52.682635</td>\n",
       "    </tr>\n",
       "    <tr>\n",
       "      <th>3</th>\n",
       "      <td>12:00-15:00</td>\n",
       "      <td>52.682635</td>\n",
       "    </tr>\n",
       "    <tr>\n",
       "      <th>4</th>\n",
       "      <td>15:00-18:00</td>\n",
       "      <td>36.113772</td>\n",
       "    </tr>\n",
       "    <tr>\n",
       "      <th>5</th>\n",
       "      <td>18:00-23:59</td>\n",
       "      <td>5.047904</td>\n",
       "    </tr>\n",
       "  </tbody>\n",
       "</table>\n",
       "</div>"
      ],
      "text/plain": [
       "        period     volumn\n",
       "0  00:00-06:00   0.155689\n",
       "1  06:00-09:00   4.598802\n",
       "2  09:00-12:00  52.682635\n",
       "3  12:00-15:00  52.682635\n",
       "4  15:00-18:00  36.113772\n",
       "5  18:00-23:59   5.047904"
      ]
     },
     "execution_count": 77,
     "metadata": {},
     "output_type": "execute_result"
    }
   ],
   "source": [
    "data = df[['period', 'volumn']].groupby('period').mean().reset_index()\n",
    "data"
   ]
  },
  {
   "cell_type": "code",
   "execution_count": 78,
   "metadata": {
    "ExecuteTime": {
     "end_time": "2021-04-26T17:51:00.623835Z",
     "start_time": "2021-04-26T17:51:00.278840Z"
    },
    "scrolled": true
   },
   "outputs": [
    {
     "data": {
      "text/plain": [
       "<matplotlib.axes._subplots.AxesSubplot at 0x16dfdec4470>"
      ]
     },
     "execution_count": 78,
     "metadata": {},
     "output_type": "execute_result"
    },
    {
     "data": {
      "image/png": "[encoded data removed]",
      "text/plain": [
       "<Figure size 1008x432 with 1 Axes>"
      ]
     },
     "metadata": {
      "image/png": {
       "height": 370,
       "width": 828
      },
      "needs_background": "light"
     },
     "output_type": "display_data"
    }
   ],
   "source": [
    "plt.figure(figsize=(14, 6))\n",
    "sns.barplot(x='period',y='volumn',data=data)"
   ]
  },
  {
   "cell_type": "markdown",
   "metadata": {},
   "source": [
    "## คิดเป็น %"
   ]
  },
  {
   "cell_type": "code",
   "execution_count": 114,
   "metadata": {
    "ExecuteTime": {
     "end_time": "2021-04-26T19:07:17.647535Z",
     "start_time": "2021-04-26T19:07:17.595532Z"
    }
   },
   "outputs": [
    {
     "data": {
      "text/html": [
       "<style  type=\"text/css\" >\n",
       "    #T_9e67dd46_a6c2_11eb_a890_3c95091dde09row0_col0 {\n",
       "            : ;\n",
       "            background-color:  gold;\n",
       "        }    #T_9e67dd46_a6c2_11eb_a890_3c95091dde09row2_col0 {\n",
       "            background-color:  red;\n",
       "            : ;\n",
       "        }    #T_9e67dd46_a6c2_11eb_a890_3c95091dde09row3_col0 {\n",
       "            background-color:  red;\n",
       "            : ;\n",
       "        }</style><table id=\"T_9e67dd46_a6c2_11eb_a890_3c95091dde09\" ><thead>    <tr>        <th class=\"blank level0\" ></th>        <th class=\"col_heading level0 col0\" >volumn</th>    </tr>    <tr>        <th class=\"index_name level0\" >period</th>        <th class=\"blank\" ></th>    </tr></thead><tbody>\n",
       "                <tr>\n",
       "                        <th id=\"T_9e67dd46_a6c2_11eb_a890_3c95091dde09level0_row0\" class=\"row_heading level0 row0\" >00:00-06:00</th>\n",
       "                        <td id=\"T_9e67dd46_a6c2_11eb_a890_3c95091dde09row0_col0\" class=\"data row0 col0\" >0.102913</td>\n",
       "            </tr>\n",
       "            <tr>\n",
       "                        <th id=\"T_9e67dd46_a6c2_11eb_a890_3c95091dde09level0_row1\" class=\"row_heading level0 row1\" >06:00-09:00</th>\n",
       "                        <td id=\"T_9e67dd46_a6c2_11eb_a890_3c95091dde09row1_col0\" class=\"data row1 col0\" >3.0399</td>\n",
       "            </tr>\n",
       "            <tr>\n",
       "                        <th id=\"T_9e67dd46_a6c2_11eb_a890_3c95091dde09level0_row2\" class=\"row_heading level0 row2\" >09:00-12:00</th>\n",
       "                        <td id=\"T_9e67dd46_a6c2_11eb_a890_3c95091dde09row2_col0\" class=\"data row2 col0\" >34.8243</td>\n",
       "            </tr>\n",
       "            <tr>\n",
       "                        <th id=\"T_9e67dd46_a6c2_11eb_a890_3c95091dde09level0_row3\" class=\"row_heading level0 row3\" >12:00-15:00</th>\n",
       "                        <td id=\"T_9e67dd46_a6c2_11eb_a890_3c95091dde09row3_col0\" class=\"data row3 col0\" >34.8243</td>\n",
       "            </tr>\n",
       "            <tr>\n",
       "                        <th id=\"T_9e67dd46_a6c2_11eb_a890_3c95091dde09level0_row4\" class=\"row_heading level0 row4\" >15:00-18:00</th>\n",
       "                        <td id=\"T_9e67dd46_a6c2_11eb_a890_3c95091dde09row4_col0\" class=\"data row4 col0\" >23.8719</td>\n",
       "            </tr>\n",
       "            <tr>\n",
       "                        <th id=\"T_9e67dd46_a6c2_11eb_a890_3c95091dde09level0_row5\" class=\"row_heading level0 row5\" >18:00-23:59</th>\n",
       "                        <td id=\"T_9e67dd46_a6c2_11eb_a890_3c95091dde09row5_col0\" class=\"data row5 col0\" >3.33676</td>\n",
       "            </tr>\n",
       "    </tbody></table>"
      ],
      "text/plain": [
       "<pandas.io.formats.style.Styler at 0x16dfdedb6d8>"
      ]
     },
     "execution_count": 114,
     "metadata": {},
     "output_type": "execute_result"
    }
   ],
   "source": [
    "data = read_pickle(files)\n",
    "data = df[['period', 'volumn']].groupby('period').mean()\n",
    "data = data.transform(lambda x: x/x.sum()*100)\n",
    "\n",
    "\n",
    "\n",
    "data = data.style.highlight_max(color='red').highlight_min(color='gold')\n",
    "data\n"
   ]
  },
  {
   "cell_type": "markdown",
   "metadata": {},
   "source": [
    "## ค่าเฉลี่ยต่อวันคำนวณจากลำดับวันของสัปดาห์และช่วงเวลาของแต่ละวัน"
   ]
  },
  {
   "cell_type": "code",
   "execution_count": 122,
   "metadata": {
    "ExecuteTime": {
     "end_time": "2021-04-26T19:44:31.621163Z",
     "start_time": "2021-04-26T19:44:31.614209Z"
    }
   },
   "outputs": [],
   "source": [
    "data = read_pickle(files)"
   ]
  },
  {
   "cell_type": "code",
   "execution_count": 123,
   "metadata": {
    "ExecuteTime": {
     "end_time": "2021-04-26T19:44:31.839374Z",
     "start_time": "2021-04-26T19:44:31.786376Z"
    }
   },
   "outputs": [
    {
     "data": {
      "text/html": [
       "<div>\n",
       "<style scoped>\n",
       "    .dataframe tbody tr th:only-of-type {\n",
       "        vertical-align: middle;\n",
       "    }\n",
       "\n",
       "    .dataframe tbody tr th {\n",
       "        vertical-align: top;\n",
       "    }\n",
       "\n",
       "    .dataframe thead th {\n",
       "        text-align: right;\n",
       "    }\n",
       "</style>\n",
       "<table border=\"1\" class=\"dataframe\">\n",
       "  <thead>\n",
       "    <tr style=\"text-align: right;\">\n",
       "      <th></th>\n",
       "      <th>DayName</th>\n",
       "      <th>period</th>\n",
       "      <th>volumn</th>\n",
       "      <th>Year</th>\n",
       "      <th>Month</th>\n",
       "      <th>Day</th>\n",
       "    </tr>\n",
       "  </thead>\n",
       "  <tbody>\n",
       "    <tr>\n",
       "      <th>0</th>\n",
       "      <td>Mon</td>\n",
       "      <td>00:00-06:00</td>\n",
       "      <td>0.000000</td>\n",
       "      <td>2020.615385</td>\n",
       "      <td>5.846154</td>\n",
       "      <td>15.038462</td>\n",
       "    </tr>\n",
       "    <tr>\n",
       "      <th>1</th>\n",
       "      <td>Mon</td>\n",
       "      <td>06:00-09:00</td>\n",
       "      <td>5.961538</td>\n",
       "      <td>2020.615385</td>\n",
       "      <td>5.846154</td>\n",
       "      <td>15.038462</td>\n",
       "    </tr>\n",
       "    <tr>\n",
       "      <th>2</th>\n",
       "      <td>Mon</td>\n",
       "      <td>09:00-12:00</td>\n",
       "      <td>65.269231</td>\n",
       "      <td>2020.615385</td>\n",
       "      <td>5.846154</td>\n",
       "      <td>15.038462</td>\n",
       "    </tr>\n",
       "    <tr>\n",
       "      <th>3</th>\n",
       "      <td>Mon</td>\n",
       "      <td>12:00-15:00</td>\n",
       "      <td>65.269231</td>\n",
       "      <td>2020.615385</td>\n",
       "      <td>5.846154</td>\n",
       "      <td>15.038462</td>\n",
       "    </tr>\n",
       "    <tr>\n",
       "      <th>4</th>\n",
       "      <td>Mon</td>\n",
       "      <td>15:00-18:00</td>\n",
       "      <td>43.115385</td>\n",
       "      <td>2020.615385</td>\n",
       "      <td>5.846154</td>\n",
       "      <td>15.038462</td>\n",
       "    </tr>\n",
       "    <tr>\n",
       "      <th>...</th>\n",
       "      <td>...</td>\n",
       "      <td>...</td>\n",
       "      <td>...</td>\n",
       "      <td>...</td>\n",
       "      <td>...</td>\n",
       "      <td>...</td>\n",
       "    </tr>\n",
       "    <tr>\n",
       "      <th>37</th>\n",
       "      <td>Sun</td>\n",
       "      <td>06:00-09:00</td>\n",
       "      <td>0.760000</td>\n",
       "      <td>2020.640000</td>\n",
       "      <td>5.720000</td>\n",
       "      <td>16.840000</td>\n",
       "    </tr>\n",
       "    <tr>\n",
       "      <th>38</th>\n",
       "      <td>Sun</td>\n",
       "      <td>09:00-12:00</td>\n",
       "      <td>2.880000</td>\n",
       "      <td>2020.640000</td>\n",
       "      <td>5.720000</td>\n",
       "      <td>16.840000</td>\n",
       "    </tr>\n",
       "    <tr>\n",
       "      <th>39</th>\n",
       "      <td>Sun</td>\n",
       "      <td>12:00-15:00</td>\n",
       "      <td>2.880000</td>\n",
       "      <td>2020.640000</td>\n",
       "      <td>5.720000</td>\n",
       "      <td>16.840000</td>\n",
       "    </tr>\n",
       "    <tr>\n",
       "      <th>40</th>\n",
       "      <td>Sun</td>\n",
       "      <td>15:00-18:00</td>\n",
       "      <td>1.600000</td>\n",
       "      <td>2020.640000</td>\n",
       "      <td>5.720000</td>\n",
       "      <td>16.840000</td>\n",
       "    </tr>\n",
       "    <tr>\n",
       "      <th>41</th>\n",
       "      <td>Sun</td>\n",
       "      <td>18:00-23:59</td>\n",
       "      <td>0.000000</td>\n",
       "      <td>2020.640000</td>\n",
       "      <td>5.720000</td>\n",
       "      <td>16.840000</td>\n",
       "    </tr>\n",
       "  </tbody>\n",
       "</table>\n",
       "<p>42 rows × 6 columns</p>\n",
       "</div>"
      ],
      "text/plain": [
       "   DayName       period     volumn         Year     Month        Day\n",
       "0      Mon  00:00-06:00   0.000000  2020.615385  5.846154  15.038462\n",
       "1      Mon  06:00-09:00   5.961538  2020.615385  5.846154  15.038462\n",
       "2      Mon  09:00-12:00  65.269231  2020.615385  5.846154  15.038462\n",
       "3      Mon  12:00-15:00  65.269231  2020.615385  5.846154  15.038462\n",
       "4      Mon  15:00-18:00  43.115385  2020.615385  5.846154  15.038462\n",
       "..     ...          ...        ...          ...       ...        ...\n",
       "37     Sun  06:00-09:00   0.760000  2020.640000  5.720000  16.840000\n",
       "38     Sun  09:00-12:00   2.880000  2020.640000  5.720000  16.840000\n",
       "39     Sun  12:00-15:00   2.880000  2020.640000  5.720000  16.840000\n",
       "40     Sun  15:00-18:00   1.600000  2020.640000  5.720000  16.840000\n",
       "41     Sun  18:00-23:59   0.000000  2020.640000  5.720000  16.840000\n",
       "\n",
       "[42 rows x 6 columns]"
      ]
     },
     "execution_count": 123,
     "metadata": {},
     "output_type": "execute_result"
    }
   ],
   "source": [
    "data =df.groupby(['DayName','period']).mean().reset_index()\n",
    "data"
   ]
  },
  {
   "cell_type": "code",
   "execution_count": 124,
   "metadata": {
    "ExecuteTime": {
     "end_time": "2021-04-26T19:44:32.568204Z",
     "start_time": "2021-04-26T19:44:32.514170Z"
    }
   },
   "outputs": [
    {
     "data": {
      "text/html": [
       "<div>\n",
       "<style scoped>\n",
       "    .dataframe tbody tr th:only-of-type {\n",
       "        vertical-align: middle;\n",
       "    }\n",
       "\n",
       "    .dataframe tbody tr th {\n",
       "        vertical-align: top;\n",
       "    }\n",
       "\n",
       "    .dataframe thead th {\n",
       "        text-align: right;\n",
       "    }\n",
       "</style>\n",
       "<table border=\"1\" class=\"dataframe\">\n",
       "  <thead>\n",
       "    <tr style=\"text-align: right;\">\n",
       "      <th>period</th>\n",
       "      <th>00:00-06:00</th>\n",
       "      <th>06:00-09:00</th>\n",
       "      <th>09:00-12:00</th>\n",
       "      <th>12:00-15:00</th>\n",
       "      <th>15:00-18:00</th>\n",
       "      <th>18:00-23:59</th>\n",
       "    </tr>\n",
       "    <tr>\n",
       "      <th>DayName</th>\n",
       "      <th></th>\n",
       "      <th></th>\n",
       "      <th></th>\n",
       "      <th></th>\n",
       "      <th></th>\n",
       "      <th></th>\n",
       "    </tr>\n",
       "  </thead>\n",
       "  <tbody>\n",
       "    <tr>\n",
       "      <th>Mon</th>\n",
       "      <td>0.000000</td>\n",
       "      <td>5.961538</td>\n",
       "      <td>65.269231</td>\n",
       "      <td>65.269231</td>\n",
       "      <td>43.115385</td>\n",
       "      <td>6.230769</td>\n",
       "    </tr>\n",
       "    <tr>\n",
       "      <th>Tue</th>\n",
       "      <td>0.130435</td>\n",
       "      <td>5.652174</td>\n",
       "      <td>73.478261</td>\n",
       "      <td>73.478261</td>\n",
       "      <td>62.695652</td>\n",
       "      <td>8.521739</td>\n",
       "    </tr>\n",
       "    <tr>\n",
       "      <th>Wed</th>\n",
       "      <td>0.440000</td>\n",
       "      <td>7.120000</td>\n",
       "      <td>75.400000</td>\n",
       "      <td>75.400000</td>\n",
       "      <td>46.400000</td>\n",
       "      <td>7.120000</td>\n",
       "    </tr>\n",
       "    <tr>\n",
       "      <th>Thu</th>\n",
       "      <td>0.120000</td>\n",
       "      <td>6.160000</td>\n",
       "      <td>69.240000</td>\n",
       "      <td>69.240000</td>\n",
       "      <td>44.640000</td>\n",
       "      <td>5.160000</td>\n",
       "    </tr>\n",
       "    <tr>\n",
       "      <th>Fri</th>\n",
       "      <td>0.250000</td>\n",
       "      <td>4.791667</td>\n",
       "      <td>65.541667</td>\n",
       "      <td>65.541667</td>\n",
       "      <td>45.166667</td>\n",
       "      <td>7.000000</td>\n",
       "    </tr>\n",
       "    <tr>\n",
       "      <th>Sat</th>\n",
       "      <td>0.157895</td>\n",
       "      <td>0.894737</td>\n",
       "      <td>7.894737</td>\n",
       "      <td>7.894737</td>\n",
       "      <td>3.578947</td>\n",
       "      <td>0.526316</td>\n",
       "    </tr>\n",
       "    <tr>\n",
       "      <th>Sun</th>\n",
       "      <td>0.000000</td>\n",
       "      <td>0.760000</td>\n",
       "      <td>2.880000</td>\n",
       "      <td>2.880000</td>\n",
       "      <td>1.600000</td>\n",
       "      <td>0.000000</td>\n",
       "    </tr>\n",
       "  </tbody>\n",
       "</table>\n",
       "</div>"
      ],
      "text/plain": [
       "period   00:00-06:00  06:00-09:00  09:00-12:00  12:00-15:00  15:00-18:00  18:00-23:59\n",
       "DayName                                                                              \n",
       "Mon         0.000000     5.961538    65.269231    65.269231    43.115385     6.230769\n",
       "Tue         0.130435     5.652174    73.478261    73.478261    62.695652     8.521739\n",
       "Wed         0.440000     7.120000    75.400000    75.400000    46.400000     7.120000\n",
       "Thu         0.120000     6.160000    69.240000    69.240000    44.640000     5.160000\n",
       "Fri         0.250000     4.791667    65.541667    65.541667    45.166667     7.000000\n",
       "Sat         0.157895     0.894737     7.894737     7.894737     3.578947     0.526316\n",
       "Sun         0.000000     0.760000     2.880000     2.880000     1.600000     0.000000"
      ]
     },
     "execution_count": 124,
     "metadata": {},
     "output_type": "execute_result"
    }
   ],
   "source": [
    "pv =  pd.pivot_table(data, values='volumn', aggfunc='mean', index=['DayName'], columns=['period'])\n",
    "#pv = pv.sort_values(by=period, ascending=False)\n",
    "pv"
   ]
  },
  {
   "cell_type": "markdown",
   "metadata": {},
   "source": [
    "## คิดเป็น %"
   ]
  },
  {
   "cell_type": "code",
   "execution_count": 125,
   "metadata": {
    "ExecuteTime": {
     "end_time": "2021-04-26T19:44:35.494035Z",
     "start_time": "2021-04-26T19:44:35.256042Z"
    }
   },
   "outputs": [
    {
     "data": {
      "text/html": [
       "<style  type=\"text/css\" >\n",
       "    #T_d4420180_a6c7_11eb_a9b3_3c95091dde09row0_col0 {\n",
       "            : ;\n",
       "            background-color:  gold;\n",
       "        }    #T_d4420180_a6c7_11eb_a9b3_3c95091dde09row1_col4 {\n",
       "            background-color:  red;\n",
       "            : ;\n",
       "        }    #T_d4420180_a6c7_11eb_a9b3_3c95091dde09row1_col5 {\n",
       "            background-color:  red;\n",
       "            : ;\n",
       "        }    #T_d4420180_a6c7_11eb_a9b3_3c95091dde09row2_col0 {\n",
       "            background-color:  red;\n",
       "            : ;\n",
       "        }    #T_d4420180_a6c7_11eb_a9b3_3c95091dde09row2_col1 {\n",
       "            background-color:  red;\n",
       "            : ;\n",
       "        }    #T_d4420180_a6c7_11eb_a9b3_3c95091dde09row2_col2 {\n",
       "            background-color:  red;\n",
       "            : ;\n",
       "        }    #T_d4420180_a6c7_11eb_a9b3_3c95091dde09row2_col3 {\n",
       "            background-color:  red;\n",
       "            : ;\n",
       "        }    #T_d4420180_a6c7_11eb_a9b3_3c95091dde09row6_col0 {\n",
       "            : ;\n",
       "            background-color:  gold;\n",
       "        }    #T_d4420180_a6c7_11eb_a9b3_3c95091dde09row6_col1 {\n",
       "            : ;\n",
       "            background-color:  gold;\n",
       "        }    #T_d4420180_a6c7_11eb_a9b3_3c95091dde09row6_col2 {\n",
       "            : ;\n",
       "            background-color:  gold;\n",
       "        }    #T_d4420180_a6c7_11eb_a9b3_3c95091dde09row6_col3 {\n",
       "            : ;\n",
       "            background-color:  gold;\n",
       "        }    #T_d4420180_a6c7_11eb_a9b3_3c95091dde09row6_col4 {\n",
       "            : ;\n",
       "            background-color:  gold;\n",
       "        }    #T_d4420180_a6c7_11eb_a9b3_3c95091dde09row6_col5 {\n",
       "            : ;\n",
       "            background-color:  gold;\n",
       "        }</style><table id=\"T_d4420180_a6c7_11eb_a9b3_3c95091dde09\" ><thead>    <tr>        <th class=\"index_name level0\" >period</th>        <th class=\"col_heading level0 col0\" >00:00-06:00</th>        <th class=\"col_heading level0 col1\" >06:00-09:00</th>        <th class=\"col_heading level0 col2\" >09:00-12:00</th>        <th class=\"col_heading level0 col3\" >12:00-15:00</th>        <th class=\"col_heading level0 col4\" >15:00-18:00</th>        <th class=\"col_heading level0 col5\" >18:00-23:59</th>    </tr>    <tr>        <th class=\"index_name level0\" >DayName</th>        <th class=\"blank\" ></th>        <th class=\"blank\" ></th>        <th class=\"blank\" ></th>        <th class=\"blank\" ></th>        <th class=\"blank\" ></th>        <th class=\"blank\" ></th>    </tr></thead><tbody>\n",
       "                <tr>\n",
       "                        <th id=\"T_d4420180_a6c7_11eb_a9b3_3c95091dde09level0_row0\" class=\"row_heading level0 row0\" >Mon</th>\n",
       "                        <td id=\"T_d4420180_a6c7_11eb_a9b3_3c95091dde09row0_col0\" class=\"data row0 col0\" >0</td>\n",
       "                        <td id=\"T_d4420180_a6c7_11eb_a9b3_3c95091dde09row0_col1\" class=\"data row0 col1\" >19.0221</td>\n",
       "                        <td id=\"T_d4420180_a6c7_11eb_a9b3_3c95091dde09row0_col2\" class=\"data row0 col2\" >18.1453</td>\n",
       "                        <td id=\"T_d4420180_a6c7_11eb_a9b3_3c95091dde09row0_col3\" class=\"data row0 col3\" >18.1453</td>\n",
       "                        <td id=\"T_d4420180_a6c7_11eb_a9b3_3c95091dde09row0_col4\" class=\"data row0 col4\" >17.4417</td>\n",
       "                        <td id=\"T_d4420180_a6c7_11eb_a9b3_3c95091dde09row0_col5\" class=\"data row0 col5\" >18.0295</td>\n",
       "            </tr>\n",
       "            <tr>\n",
       "                        <th id=\"T_d4420180_a6c7_11eb_a9b3_3c95091dde09level0_row1\" class=\"row_heading level0 row1\" >Tue</th>\n",
       "                        <td id=\"T_d4420180_a6c7_11eb_a9b3_3c95091dde09row1_col0\" class=\"data row1 col0\" >11.8757</td>\n",
       "                        <td id=\"T_d4420180_a6c7_11eb_a9b3_3c95091dde09row1_col1\" class=\"data row1 col1\" >18.0349</td>\n",
       "                        <td id=\"T_d4420180_a6c7_11eb_a9b3_3c95091dde09row1_col2\" class=\"data row1 col2\" >20.4274</td>\n",
       "                        <td id=\"T_d4420180_a6c7_11eb_a9b3_3c95091dde09row1_col3\" class=\"data row1 col3\" >20.4274</td>\n",
       "                        <td id=\"T_d4420180_a6c7_11eb_a9b3_3c95091dde09row1_col4\" class=\"data row1 col4\" >25.3627</td>\n",
       "                        <td id=\"T_d4420180_a6c7_11eb_a9b3_3c95091dde09row1_col5\" class=\"data row1 col5\" >24.6586</td>\n",
       "            </tr>\n",
       "            <tr>\n",
       "                        <th id=\"T_d4420180_a6c7_11eb_a9b3_3c95091dde09level0_row2\" class=\"row_heading level0 row2\" >Wed</th>\n",
       "                        <td id=\"T_d4420180_a6c7_11eb_a9b3_3c95091dde09row2_col0\" class=\"data row2 col0\" >40.0608</td>\n",
       "                        <td id=\"T_d4420180_a6c7_11eb_a9b3_3c95091dde09row2_col1\" class=\"data row2 col1\" >22.7185</td>\n",
       "                        <td id=\"T_d4420180_a6c7_11eb_a9b3_3c95091dde09row2_col2\" class=\"data row2 col2\" >20.9617</td>\n",
       "                        <td id=\"T_d4420180_a6c7_11eb_a9b3_3c95091dde09row2_col3\" class=\"data row2 col3\" >20.9617</td>\n",
       "                        <td id=\"T_d4420180_a6c7_11eb_a9b3_3c95091dde09row2_col4\" class=\"data row2 col4\" >18.7705</td>\n",
       "                        <td id=\"T_d4420180_a6c7_11eb_a9b3_3c95091dde09row2_col5\" class=\"data row2 col5\" >20.6026</td>\n",
       "            </tr>\n",
       "            <tr>\n",
       "                        <th id=\"T_d4420180_a6c7_11eb_a9b3_3c95091dde09level0_row3\" class=\"row_heading level0 row3\" >Thu</th>\n",
       "                        <td id=\"T_d4420180_a6c7_11eb_a9b3_3c95091dde09row3_col0\" class=\"data row3 col0\" >10.9257</td>\n",
       "                        <td id=\"T_d4420180_a6c7_11eb_a9b3_3c95091dde09row3_col1\" class=\"data row3 col1\" >19.6553</td>\n",
       "                        <td id=\"T_d4420180_a6c7_11eb_a9b3_3c95091dde09row3_col2\" class=\"data row3 col2\" >19.2492</td>\n",
       "                        <td id=\"T_d4420180_a6c7_11eb_a9b3_3c95091dde09row3_col3\" class=\"data row3 col3\" >19.2492</td>\n",
       "                        <td id=\"T_d4420180_a6c7_11eb_a9b3_3c95091dde09row3_col4\" class=\"data row3 col4\" >18.0585</td>\n",
       "                        <td id=\"T_d4420180_a6c7_11eb_a9b3_3c95091dde09row3_col5\" class=\"data row3 col5\" >14.9311</td>\n",
       "            </tr>\n",
       "            <tr>\n",
       "                        <th id=\"T_d4420180_a6c7_11eb_a9b3_3c95091dde09level0_row4\" class=\"row_heading level0 row4\" >Fri</th>\n",
       "                        <td id=\"T_d4420180_a6c7_11eb_a9b3_3c95091dde09row4_col0\" class=\"data row4 col0\" >22.7618</td>\n",
       "                        <td id=\"T_d4420180_a6c7_11eb_a9b3_3c95091dde09row4_col1\" class=\"data row4 col1\" >15.2892</td>\n",
       "                        <td id=\"T_d4420180_a6c7_11eb_a9b3_3c95091dde09row4_col2\" class=\"data row4 col2\" >18.221</td>\n",
       "                        <td id=\"T_d4420180_a6c7_11eb_a9b3_3c95091dde09row4_col3\" class=\"data row4 col3\" >18.221</td>\n",
       "                        <td id=\"T_d4420180_a6c7_11eb_a9b3_3c95091dde09row4_col4\" class=\"data row4 col4\" >18.2716</td>\n",
       "                        <td id=\"T_d4420180_a6c7_11eb_a9b3_3c95091dde09row4_col5\" class=\"data row4 col5\" >20.2553</td>\n",
       "            </tr>\n",
       "            <tr>\n",
       "                        <th id=\"T_d4420180_a6c7_11eb_a9b3_3c95091dde09level0_row5\" class=\"row_heading level0 row5\" >Sat</th>\n",
       "                        <td id=\"T_d4420180_a6c7_11eb_a9b3_3c95091dde09row5_col0\" class=\"data row5 col0\" >14.3759</td>\n",
       "                        <td id=\"T_d4420180_a6c7_11eb_a9b3_3c95091dde09row5_col1\" class=\"data row5 col1\" >2.85493</td>\n",
       "                        <td id=\"T_d4420180_a6c7_11eb_a9b3_3c95091dde09row5_col2\" class=\"data row5 col2\" >2.19479</td>\n",
       "                        <td id=\"T_d4420180_a6c7_11eb_a9b3_3c95091dde09row5_col3\" class=\"data row5 col3\" >2.19479</td>\n",
       "                        <td id=\"T_d4420180_a6c7_11eb_a9b3_3c95091dde09row5_col4\" class=\"data row5 col4\" >1.44781</td>\n",
       "                        <td id=\"T_d4420180_a6c7_11eb_a9b3_3c95091dde09row5_col5\" class=\"data row5 col5\" >1.52296</td>\n",
       "            </tr>\n",
       "            <tr>\n",
       "                        <th id=\"T_d4420180_a6c7_11eb_a9b3_3c95091dde09level0_row6\" class=\"row_heading level0 row6\" >Sun</th>\n",
       "                        <td id=\"T_d4420180_a6c7_11eb_a9b3_3c95091dde09row6_col0\" class=\"data row6 col0\" >0</td>\n",
       "                        <td id=\"T_d4420180_a6c7_11eb_a9b3_3c95091dde09row6_col1\" class=\"data row6 col1\" >2.42501</td>\n",
       "                        <td id=\"T_d4420180_a6c7_11eb_a9b3_3c95091dde09row6_col2\" class=\"data row6 col2\" >0.800659</td>\n",
       "                        <td id=\"T_d4420180_a6c7_11eb_a9b3_3c95091dde09row6_col3\" class=\"data row6 col3\" >0.800659</td>\n",
       "                        <td id=\"T_d4420180_a6c7_11eb_a9b3_3c95091dde09row6_col4\" class=\"data row6 col4\" >0.647258</td>\n",
       "                        <td id=\"T_d4420180_a6c7_11eb_a9b3_3c95091dde09row6_col5\" class=\"data row6 col5\" >0</td>\n",
       "            </tr>\n",
       "    </tbody></table>"
      ],
      "text/plain": [
       "<pandas.io.formats.style.Styler at 0x16dfee2fef0>"
      ]
     },
     "execution_count": 125,
     "metadata": {},
     "output_type": "execute_result"
    }
   ],
   "source": [
    "pv = pv.transform(lambda x: x/x.sum()*100)\n",
    "html = pv.copy()\n",
    "pv = pv.style.highlight_max(color='red').highlight_min(color='gold')\n",
    "pv"
   ]
  },
  {
   "cell_type": "code",
   "execution_count": null,
   "metadata": {},
   "outputs": [],
   "source": []
  },
  {
   "cell_type": "code",
   "execution_count": 126,
   "metadata": {
    "ExecuteTime": {
     "end_time": "2021-04-26T19:44:38.790514Z",
     "start_time": "2021-04-26T19:44:38.689497Z"
    }
   },
   "outputs": [
    {
     "data": {
      "text/plain": [
       "'<style  type=\"text/css\" >\\n    #T_d63a87f6_a6c7_11eb_abef_3c95091dde09row0_col0 {\\n            width:  10em;\\n             height:  80%;\\n        }    #T_d63a87f6_a6c7_11eb_abef_3c95091dde09row0_col1 {\\n            width:  10em;\\n             height:  80%;\\n            background:  linear-gradient(90deg,#aaffaa 81.8%, transparent 81.8%);\\n        }    #T_d63a87f6_a6c7_11eb_abef_3c95091dde09row0_col2 {\\n            width:  10em;\\n             height:  80%;\\n            background:  linear-gradient(90deg,#aaffaa 86.0%, transparent 86.0%);\\n        }    #T_d63a87f6_a6c7_11eb_abef_3c95091dde09row0_col3 {\\n            width:  10em;\\n             height:  80%;\\n            background:  linear-gradient(90deg,#aaffaa 86.0%, transparent 86.0%);\\n        }    #T_d63a87f6_a6c7_11eb_abef_3c95091dde09row0_col4 {\\n            width:  10em;\\n             height:  80%;\\n            background:  linear-gradient(90deg,#aaffaa 68.0%, transparent 68.0%);\\n        }    #T_d63a87f6_a6c7_11eb_abef_3c95091dde09row0_col5 {\\n            width:  10em;\\n             height:  80%;\\n            background:  linear-gradient(90deg,#aaffaa 73.1%, transparent 73.1%);\\n        }    #T_d63a87f6_a6c7_11eb_abef_3c95091dde09row1_col0 {\\n            width:  10em;\\n             height:  80%;\\n            background:  linear-gradient(90deg,#aaffaa 29.6%, transparent 29.6%);\\n        }    #T_d63a87f6_a6c7_11eb_abef_3c95091dde09row1_col1 {\\n            width:  10em;\\n             height:  80%;\\n            background:  linear-gradient(90deg,#aaffaa 76.9%, transparent 76.9%);\\n        }    #T_d63a87f6_a6c7_11eb_abef_3c95091dde09row1_col2 {\\n            width:  10em;\\n             height:  80%;\\n            background:  linear-gradient(90deg,#aaffaa 97.4%, transparent 97.4%);\\n        }    #T_d63a87f6_a6c7_11eb_abef_3c95091dde09row1_col3 {\\n            width:  10em;\\n             height:  80%;\\n            background:  linear-gradient(90deg,#aaffaa 97.4%, transparent 97.4%);\\n        }    #T_d63a87f6_a6c7_11eb_abef_3c95091dde09row1_col4 {\\n            width:  10em;\\n             height:  80%;\\n            background:  linear-gradient(90deg,#aaffaa 100.0%, transparent 100.0%);\\n        }    #T_d63a87f6_a6c7_11eb_abef_3c95091dde09row1_col5 {\\n            width:  10em;\\n             height:  80%;\\n            background:  linear-gradient(90deg,#aaffaa 100.0%, transparent 100.0%);\\n        }    #T_d63a87f6_a6c7_11eb_abef_3c95091dde09row2_col0 {\\n            width:  10em;\\n             height:  80%;\\n            background:  linear-gradient(90deg,#aaffaa 100.0%, transparent 100.0%);\\n        }    #T_d63a87f6_a6c7_11eb_abef_3c95091dde09row2_col1 {\\n            width:  10em;\\n             height:  80%;\\n            background:  linear-gradient(90deg,#aaffaa 100.0%, transparent 100.0%);\\n        }    #T_d63a87f6_a6c7_11eb_abef_3c95091dde09row2_col2 {\\n            width:  10em;\\n             height:  80%;\\n            background:  linear-gradient(90deg,#aaffaa 100.0%, transparent 100.0%);\\n        }    #T_d63a87f6_a6c7_11eb_abef_3c95091dde09row2_col3 {\\n            width:  10em;\\n             height:  80%;\\n            background:  linear-gradient(90deg,#aaffaa 100.0%, transparent 100.0%);\\n        }    #T_d63a87f6_a6c7_11eb_abef_3c95091dde09row2_col4 {\\n            width:  10em;\\n             height:  80%;\\n            background:  linear-gradient(90deg,#aaffaa 73.3%, transparent 73.3%);\\n        }    #T_d63a87f6_a6c7_11eb_abef_3c95091dde09row2_col5 {\\n            width:  10em;\\n             height:  80%;\\n            background:  linear-gradient(90deg,#aaffaa 83.6%, transparent 83.6%);\\n        }    #T_d63a87f6_a6c7_11eb_abef_3c95091dde09row3_col0 {\\n            width:  10em;\\n             height:  80%;\\n            background:  linear-gradient(90deg,#aaffaa 27.3%, transparent 27.3%);\\n        }    #T_d63a87f6_a6c7_11eb_abef_3c95091dde09row3_col1 {\\n            width:  10em;\\n             height:  80%;\\n            background:  linear-gradient(90deg,#aaffaa 84.9%, transparent 84.9%);\\n        }    #T_d63a87f6_a6c7_11eb_abef_3c95091dde09row3_col2 {\\n            width:  10em;\\n             height:  80%;\\n            background:  linear-gradient(90deg,#aaffaa 91.5%, transparent 91.5%);\\n        }    #T_d63a87f6_a6c7_11eb_abef_3c95091dde09row3_col3 {\\n            width:  10em;\\n             height:  80%;\\n            background:  linear-gradient(90deg,#aaffaa 91.5%, transparent 91.5%);\\n        }    #T_d63a87f6_a6c7_11eb_abef_3c95091dde09row3_col4 {\\n            width:  10em;\\n             height:  80%;\\n            background:  linear-gradient(90deg,#aaffaa 70.4%, transparent 70.4%);\\n        }    #T_d63a87f6_a6c7_11eb_abef_3c95091dde09row3_col5 {\\n            width:  10em;\\n             height:  80%;\\n            background:  linear-gradient(90deg,#aaffaa 60.6%, transparent 60.6%);\\n        }    #T_d63a87f6_a6c7_11eb_abef_3c95091dde09row4_col0 {\\n            width:  10em;\\n             height:  80%;\\n            background:  linear-gradient(90deg,#aaffaa 56.8%, transparent 56.8%);\\n        }    #T_d63a87f6_a6c7_11eb_abef_3c95091dde09row4_col1 {\\n            width:  10em;\\n             height:  80%;\\n            background:  linear-gradient(90deg,#aaffaa 63.4%, transparent 63.4%);\\n        }    #T_d63a87f6_a6c7_11eb_abef_3c95091dde09row4_col2 {\\n            width:  10em;\\n             height:  80%;\\n            background:  linear-gradient(90deg,#aaffaa 86.4%, transparent 86.4%);\\n        }    #T_d63a87f6_a6c7_11eb_abef_3c95091dde09row4_col3 {\\n            width:  10em;\\n             height:  80%;\\n            background:  linear-gradient(90deg,#aaffaa 86.4%, transparent 86.4%);\\n        }    #T_d63a87f6_a6c7_11eb_abef_3c95091dde09row4_col4 {\\n            width:  10em;\\n             height:  80%;\\n            background:  linear-gradient(90deg,#aaffaa 71.3%, transparent 71.3%);\\n        }    #T_d63a87f6_a6c7_11eb_abef_3c95091dde09row4_col5 {\\n            width:  10em;\\n             height:  80%;\\n            background:  linear-gradient(90deg,#aaffaa 82.1%, transparent 82.1%);\\n        }    #T_d63a87f6_a6c7_11eb_abef_3c95091dde09row5_col0 {\\n            width:  10em;\\n             height:  80%;\\n            background:  linear-gradient(90deg,#aaffaa 35.9%, transparent 35.9%);\\n        }    #T_d63a87f6_a6c7_11eb_abef_3c95091dde09row5_col1 {\\n            width:  10em;\\n             height:  80%;\\n            background:  linear-gradient(90deg,#aaffaa 2.1%, transparent 2.1%);\\n        }    #T_d63a87f6_a6c7_11eb_abef_3c95091dde09row5_col2 {\\n            width:  10em;\\n             height:  80%;\\n            background:  linear-gradient(90deg,#aaffaa 6.9%, transparent 6.9%);\\n        }    #T_d63a87f6_a6c7_11eb_abef_3c95091dde09row5_col3 {\\n            width:  10em;\\n             height:  80%;\\n            background:  linear-gradient(90deg,#aaffaa 6.9%, transparent 6.9%);\\n        }    #T_d63a87f6_a6c7_11eb_abef_3c95091dde09row5_col4 {\\n            width:  10em;\\n             height:  80%;\\n            background:  linear-gradient(90deg,#aaffaa 3.2%, transparent 3.2%);\\n        }    #T_d63a87f6_a6c7_11eb_abef_3c95091dde09row5_col5 {\\n            width:  10em;\\n             height:  80%;\\n            background:  linear-gradient(90deg,#aaffaa 6.2%, transparent 6.2%);\\n        }    #T_d63a87f6_a6c7_11eb_abef_3c95091dde09row6_col0 {\\n            width:  10em;\\n             height:  80%;\\n        }    #T_d63a87f6_a6c7_11eb_abef_3c95091dde09row6_col1 {\\n            width:  10em;\\n             height:  80%;\\n        }    #T_d63a87f6_a6c7_11eb_abef_3c95091dde09row6_col2 {\\n            width:  10em;\\n             height:  80%;\\n        }    #T_d63a87f6_a6c7_11eb_abef_3c95091dde09row6_col3 {\\n            width:  10em;\\n             height:  80%;\\n        }    #T_d63a87f6_a6c7_11eb_abef_3c95091dde09row6_col4 {\\n            width:  10em;\\n             height:  80%;\\n        }    #T_d63a87f6_a6c7_11eb_abef_3c95091dde09row6_col5 {\\n            width:  10em;\\n             height:  80%;\\n        }</style><table id=\"T_d63a87f6_a6c7_11eb_abef_3c95091dde09\" ><thead>    <tr>        <th class=\"index_name level0\" >period</th>        <th class=\"col_heading level0 col0\" >00:00-06:00</th>        <th class=\"col_heading level0 col1\" >06:00-09:00</th>        <th class=\"col_heading level0 col2\" >09:00-12:00</th>        <th class=\"col_heading level0 col3\" >12:00-15:00</th>        <th class=\"col_heading level0 col4\" >15:00-18:00</th>        <th class=\"col_heading level0 col5\" >18:00-23:59</th>    </tr>    <tr>        <th class=\"index_name level0\" >DayName</th>        <th class=\"blank\" ></th>        <th class=\"blank\" ></th>        <th class=\"blank\" ></th>        <th class=\"blank\" ></th>        <th class=\"blank\" ></th>        <th class=\"blank\" ></th>    </tr></thead><tbody>\\n                <tr>\\n                        <th id=\"T_d63a87f6_a6c7_11eb_abef_3c95091dde09level0_row0\" class=\"row_heading level0 row0\" >Mon</th>\\n                        <td id=\"T_d63a87f6_a6c7_11eb_abef_3c95091dde09row0_col0\" class=\"data row0 col0\" >0</td>\\n                        <td id=\"T_d63a87f6_a6c7_11eb_abef_3c95091dde09row0_col1\" class=\"data row0 col1\" >19.0221</td>\\n                        <td id=\"T_d63a87f6_a6c7_11eb_abef_3c95091dde09row0_col2\" class=\"data row0 col2\" >18.1453</td>\\n                        <td id=\"T_d63a87f6_a6c7_11eb_abef_3c95091dde09row0_col3\" class=\"data row0 col3\" >18.1453</td>\\n                        <td id=\"T_d63a87f6_a6c7_11eb_abef_3c95091dde09row0_col4\" class=\"data row0 col4\" >17.4417</td>\\n                        <td id=\"T_d63a87f6_a6c7_11eb_abef_3c95091dde09row0_col5\" class=\"data row0 col5\" >18.0295</td>\\n            </tr>\\n            <tr>\\n                        <th id=\"T_d63a87f6_a6c7_11eb_abef_3c95091dde09level0_row1\" class=\"row_heading level0 row1\" >Tue</th>\\n                        <td id=\"T_d63a87f6_a6c7_11eb_abef_3c95091dde09row1_col0\" class=\"data row1 col0\" >11.8757</td>\\n                        <td id=\"T_d63a87f6_a6c7_11eb_abef_3c95091dde09row1_col1\" class=\"data row1 col1\" >18.0349</td>\\n                        <td id=\"T_d63a87f6_a6c7_11eb_abef_3c95091dde09row1_col2\" class=\"data row1 col2\" >20.4274</td>\\n                        <td id=\"T_d63a87f6_a6c7_11eb_abef_3c95091dde09row1_col3\" class=\"data row1 col3\" >20.4274</td>\\n                        <td id=\"T_d63a87f6_a6c7_11eb_abef_3c95091dde09row1_col4\" class=\"data row1 col4\" >25.3627</td>\\n                        <td id=\"T_d63a87f6_a6c7_11eb_abef_3c95091dde09row1_col5\" class=\"data row1 col5\" >24.6586</td>\\n            </tr>\\n            <tr>\\n                        <th id=\"T_d63a87f6_a6c7_11eb_abef_3c95091dde09level0_row2\" class=\"row_heading level0 row2\" >Wed</th>\\n                        <td id=\"T_d63a87f6_a6c7_11eb_abef_3c95091dde09row2_col0\" class=\"data row2 col0\" >40.0608</td>\\n                        <td id=\"T_d63a87f6_a6c7_11eb_abef_3c95091dde09row2_col1\" class=\"data row2 col1\" >22.7185</td>\\n                        <td id=\"T_d63a87f6_a6c7_11eb_abef_3c95091dde09row2_col2\" class=\"data row2 col2\" >20.9617</td>\\n                        <td id=\"T_d63a87f6_a6c7_11eb_abef_3c95091dde09row2_col3\" class=\"data row2 col3\" >20.9617</td>\\n                        <td id=\"T_d63a87f6_a6c7_11eb_abef_3c95091dde09row2_col4\" class=\"data row2 col4\" >18.7705</td>\\n                        <td id=\"T_d63a87f6_a6c7_11eb_abef_3c95091dde09row2_col5\" class=\"data row2 col5\" >20.6026</td>\\n            </tr>\\n            <tr>\\n                        <th id=\"T_d63a87f6_a6c7_11eb_abef_3c95091dde09level0_row3\" class=\"row_heading level0 row3\" >Thu</th>\\n                        <td id=\"T_d63a87f6_a6c7_11eb_abef_3c95091dde09row3_col0\" class=\"data row3 col0\" >10.9257</td>\\n                        <td id=\"T_d63a87f6_a6c7_11eb_abef_3c95091dde09row3_col1\" class=\"data row3 col1\" >19.6553</td>\\n                        <td id=\"T_d63a87f6_a6c7_11eb_abef_3c95091dde09row3_col2\" class=\"data row3 col2\" >19.2492</td>\\n                        <td id=\"T_d63a87f6_a6c7_11eb_abef_3c95091dde09row3_col3\" class=\"data row3 col3\" >19.2492</td>\\n                        <td id=\"T_d63a87f6_a6c7_11eb_abef_3c95091dde09row3_col4\" class=\"data row3 col4\" >18.0585</td>\\n                        <td id=\"T_d63a87f6_a6c7_11eb_abef_3c95091dde09row3_col5\" class=\"data row3 col5\" >14.9311</td>\\n            </tr>\\n            <tr>\\n                        <th id=\"T_d63a87f6_a6c7_11eb_abef_3c95091dde09level0_row4\" class=\"row_heading level0 row4\" >Fri</th>\\n                        <td id=\"T_d63a87f6_a6c7_11eb_abef_3c95091dde09row4_col0\" class=\"data row4 col0\" >22.7618</td>\\n                        <td id=\"T_d63a87f6_a6c7_11eb_abef_3c95091dde09row4_col1\" class=\"data row4 col1\" >15.2892</td>\\n                        <td id=\"T_d63a87f6_a6c7_11eb_abef_3c95091dde09row4_col2\" class=\"data row4 col2\" >18.221</td>\\n                        <td id=\"T_d63a87f6_a6c7_11eb_abef_3c95091dde09row4_col3\" class=\"data row4 col3\" >18.221</td>\\n                        <td id=\"T_d63a87f6_a6c7_11eb_abef_3c95091dde09row4_col4\" class=\"data row4 col4\" >18.2716</td>\\n                        <td id=\"T_d63a87f6_a6c7_11eb_abef_3c95091dde09row4_col5\" class=\"data row4 col5\" >20.2553</td>\\n            </tr>\\n            <tr>\\n                        <th id=\"T_d63a87f6_a6c7_11eb_abef_3c95091dde09level0_row5\" class=\"row_heading level0 row5\" >Sat</th>\\n                        <td id=\"T_d63a87f6_a6c7_11eb_abef_3c95091dde09row5_col0\" class=\"data row5 col0\" >14.3759</td>\\n                        <td id=\"T_d63a87f6_a6c7_11eb_abef_3c95091dde09row5_col1\" class=\"data row5 col1\" >2.85493</td>\\n                        <td id=\"T_d63a87f6_a6c7_11eb_abef_3c95091dde09row5_col2\" class=\"data row5 col2\" >2.19479</td>\\n                        <td id=\"T_d63a87f6_a6c7_11eb_abef_3c95091dde09row5_col3\" class=\"data row5 col3\" >2.19479</td>\\n                        <td id=\"T_d63a87f6_a6c7_11eb_abef_3c95091dde09row5_col4\" class=\"data row5 col4\" >1.44781</td>\\n                        <td id=\"T_d63a87f6_a6c7_11eb_abef_3c95091dde09row5_col5\" class=\"data row5 col5\" >1.52296</td>\\n            </tr>\\n            <tr>\\n                        <th id=\"T_d63a87f6_a6c7_11eb_abef_3c95091dde09level0_row6\" class=\"row_heading level0 row6\" >Sun</th>\\n                        <td id=\"T_d63a87f6_a6c7_11eb_abef_3c95091dde09row6_col0\" class=\"data row6 col0\" >0</td>\\n                        <td id=\"T_d63a87f6_a6c7_11eb_abef_3c95091dde09row6_col1\" class=\"data row6 col1\" >2.42501</td>\\n                        <td id=\"T_d63a87f6_a6c7_11eb_abef_3c95091dde09row6_col2\" class=\"data row6 col2\" >0.800659</td>\\n                        <td id=\"T_d63a87f6_a6c7_11eb_abef_3c95091dde09row6_col3\" class=\"data row6 col3\" >0.800659</td>\\n                        <td id=\"T_d63a87f6_a6c7_11eb_abef_3c95091dde09row6_col4\" class=\"data row6 col4\" >0.647258</td>\\n                        <td id=\"T_d63a87f6_a6c7_11eb_abef_3c95091dde09row6_col5\" class=\"data row6 col5\" >0</td>\\n            </tr>\\n    </tbody></table>'"
      ]
     },
     "execution_count": 126,
     "metadata": {},
     "output_type": "execute_result"
    }
   ],
   "source": [
    "html.style.bar(color='#aaffaa').render()"
   ]
  },
  {
   "cell_type": "code",
   "execution_count": null,
   "metadata": {},
   "outputs": [],
   "source": []
  }
 ],
 "metadata": {
  "hide_input": false,
  "kernelspec": {
   "display_name": "env_ml",
   "language": "python",
   "name": "env_ml"
  },
  "language_info": {
   "codemirror_mode": {
    "name": "ipython",
    "version": 3
   },
   "file_extension": ".py",
   "mimetype": "text/x-python",
   "name": "python",
   "nbconvert_exporter": "python",
   "pygments_lexer": "ipython3",
   "version": "3.6.12"
  },
  "latex_envs": {
   "LaTeX_envs_menu_present": true,
   "autoclose": false,
   "autocomplete": true,
   "bibliofile": "biblio.bib",
   "cite_by": "apalike",
   "current_citInitial": 1,
   "eqLabelWithNumbers": true,
   "eqNumInitial": 1,
   "hotkeys": {
    "equation": "Ctrl-E",
    "itemize": "Ctrl-I"
   },
   "labels_anchors": false,
   "latex_user_defs": false,
   "report_style_numbering": false,
   "user_envs_cfg": false
  },
  "toc": {
   "base_numbering": 1,
   "nav_menu": {},
   "number_sections": false,
   "sideBar": true,
   "skip_h1_title": false,
   "title_cell": "Table of Contents",
   "title_sidebar": "Contents",
   "toc_cell": false,
   "toc_position": {},
   "toc_section_display": true,
   "toc_window_display": false
  }
 },
 "nbformat": 4,
 "nbformat_minor": 4
}
