{
 "cells": [
  {
   "cell_type": "markdown",
   "metadata": {},
   "source": [
    "Send Line Notify\n",
    "==="
   ]
  },
  {
   "cell_type": "code",
   "execution_count": 12,
   "metadata": {},
   "outputs": [],
   "source": [
    "import requests\n",
    "\n",
    "def send_line(msgs):\n",
    "    url = 'https://notify-api.line.me/api/notify'\n",
    "    tokens = ['KwxzaLs6LcpoeQ63dz089dzg1uCQC9niN1R0ybM1ZEK','UZF4Wb0yxVuKcknVpg4n5CR22BBOrCCma6PmilQrm4Q']\n",
    "    for token in tokens:\n",
    "        headers = {'content-type':'application/x-www-form-urlencoded','Authorization':'Bearer '+token}\n",
    "        msg = (msgs)\n",
    "        r = requests.post(url, headers=headers , data = {'message':msg})\n",
    "        print (r.text)\n",
    "        print(msg)"
   ]
  },
  {
   "cell_type": "code",
   "execution_count": 13,
   "metadata": {},
   "outputs": [],
   "source": [
    "import datetime\n",
    "from datetime import date\n",
    "today = datetime.datetime.today().strftime(\"%d-%m-%Y %H:%M:%S\")\n",
    "\n",
    "msgs = '''\n",
    "อันนี้เป็นการทดสอบการส่ง Line Notify พร้อมกัน 2 กลุ่มนะครับ ถ้าวิธีการส่งได้แล้ว ขั้นตอนไป ผมจะลองดูว่าจะให้ผู้ใช้ไปบันทึกข้อมูลอย่างไร จะสะดวกในการส่งข้อมูต่อไป \n",
    "\n",
    "'''\n",
    "\n",
    "msgs = '\\n'+ today + '\\n'+msgs"
   ]
  },
  {
   "cell_type": "code",
   "execution_count": 14,
   "metadata": {},
   "outputs": [
    {
     "name": "stdout",
     "output_type": "stream",
     "text": [
      "{\"status\":200,\"message\":\"ok\"}\n",
      "\n",
      "27-05-2021 13:27:06\n",
      "\n",
      "อันนี้เป็นการทดสอบการส่ง Line Notify พร้อมกัน 2 กลุ่มนะครับ ถ้าวิธีการส่งได้แล้ว ขั้นตอนไป ผมจะลองดูว่าจะให้ผู้ใช้ไปบันทึกข้อมูลอย่างไร จะสะดวกในการส่งข้อมูต่อไป \n",
      "\n",
      "\n",
      "{\"status\":200,\"message\":\"ok\"}\n",
      "\n",
      "27-05-2021 13:27:06\n",
      "\n",
      "อันนี้เป็นการทดสอบการส่ง Line Notify พร้อมกัน 2 กลุ่มนะครับ ถ้าวิธีการส่งได้แล้ว ขั้นตอนไป ผมจะลองดูว่าจะให้ผู้ใช้ไปบันทึกข้อมูลอย่างไร จะสะดวกในการส่งข้อมูต่อไป \n",
      "\n",
      "\n"
     ]
    }
   ],
   "source": [
    "send_line(msgs)"
   ]
  },
  {
   "cell_type": "code",
   "execution_count": null,
   "metadata": {},
   "outputs": [],
   "source": []
  },
  {
   "cell_type": "code",
   "execution_count": null,
   "metadata": {},
   "outputs": [],
   "source": []
  },
  {
   "cell_type": "code",
   "execution_count": null,
   "metadata": {},
   "outputs": [],
   "source": [
    "import requests\n",
    "\n",
    "url = 'https://notify-api.line.me/api/notify'\n",
    "token = ['KwxzaLs6LcpoeQ63dz089dzg1uCQC9niN1R0ybM1ZEK','UZF4Wb0yxVuKcknVpg4n5CR22BBOrCCma6PmilQrm4Q']\n",
    "headers = {'content-type':'application/x-www-form-urlencoded','Authorization':'Bearer '+token}\n",
    "\n",
    "msgs = aritcle_detail(new)\n",
    "r = requests.post(url, headers=headers , data = {'message':msgs})\n",
    "print (r.text)"
   ]
  },
  {
   "cell_type": "code",
   "execution_count": null,
   "metadata": {},
   "outputs": [],
   "source": []
  },
  {
   "cell_type": "markdown",
   "metadata": {},
   "source": [
    "## Note\n",
    "\n",
    "- Test-GC-01\n",
    "- KwxzaLs6LcpoeQ63dz089dzg1uCQC9niN1R0ybM1ZEK\n",
    "- Test-GC-02\n",
    "- UZF4Wb0yxVuKcknVpg4n5CR22BBOrCCma6PmilQrm4Q\n",
    "\n",
    "\n",
    "### Token : \n",
    "- https://www.imwritingrich.com/how-to-get-token-line-notify/"
   ]
  }
 ],
 "metadata": {
  "kernelspec": {
   "display_name": "py38_ml",
   "language": "python",
   "name": "py38_ml"
  },
  "language_info": {
   "codemirror_mode": {
    "name": "ipython",
    "version": 3
   },
   "file_extension": ".py",
   "mimetype": "text/x-python",
   "name": "python",
   "nbconvert_exporter": "python",
   "pygments_lexer": "ipython3",
   "version": "3.8.5"
  }
 },
 "nbformat": 4,
 "nbformat_minor": 5
}
